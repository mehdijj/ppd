{
 "cells": [
  {
   "cell_type": "markdown",
   "metadata": {},
   "source": [
    "Attacking PPD trained on CIFAR-10\n",
    "===\n",
    "This Notebook loads trained PPD models on CIFAR-10 dataset, Ensembles them and generates adversarial examples using different attacks.\n",
    "\n",
    "The models are loaded from saved_models >> cifar10dense"
   ]
  },
  {
   "cell_type": "code",
   "execution_count": null,
   "metadata": {},
   "outputs": [],
   "source": [
    "import tensorflow as tf\n",
    "import numpy as np\n",
    "import matplotlib.pyplot as plt\n",
    "import os\n",
    "from copy import deepcopy"
   ]
  },
  {
   "cell_type": "code",
   "execution_count": 2,
   "metadata": {},
   "outputs": [],
   "source": [
    "# This block is needed because before loading the trained models, the graph should be loaded with the same\n",
    "# structure as it was trained.\n",
    "\n",
    "from __future__ import absolute_import\n",
    "from __future__ import division\n",
    "from __future__ import print_function\n",
    "from __future__ import unicode_literals\n",
    "\n",
    "import functools\n",
    "from cleverhans.model import Model\n",
    "\n",
    "\n",
    "# ______________________________________ content of my local utils_tf.py _______________________________\n",
    "def fftshift(inputs):\n",
    "    \"\"\"\n",
    "    Calculates and returns fftshift of the inputs tensor along second and third axes.\n",
    "    :param inputs: Tensor with shape (None, ., ., .)\n",
    "    :return: a Tensor which is fftshift of inputs along second and third axes with same dtype and shape\n",
    "    \"\"\"\n",
    "    axes = range(1, len(inputs.shape) - 1)\n",
    "    for k in axes:\n",
    "        n = inputs.shape[k]\n",
    "        p2 = (n + 1) // 2\n",
    "        my_list = tf.concat((tf.range(p2, n), tf.range(p2)), axis=0)\n",
    "        inputs = tf.gather(inputs, my_list, axis=k)\n",
    "    return inputs\n",
    "\n",
    "\n",
    "def pixel2phase(inputs):\n",
    "    \"\"\"\n",
    "    convert the inputs images to the phase domain along each channel.\n",
    "    :param inputs: Tensor with shape (None, height, width, channels)\n",
    "    :return: Tensor with same shape and dtype as inputs\n",
    "    \"\"\"\n",
    "    inputs_dtype = inputs.dtype\n",
    "    dtype = tf.complex64\n",
    "    inputs = tf.cast(inputs, dtype=dtype)\n",
    "    input_f = fftshift(tf.transpose(tf.fft2d(tf.transpose(inputs, perm=[0, 3, 1, 2])), perm=[0, 2, 3, 1]))\n",
    "    input_f = tf.where(tf.less(tf.abs(input_f), 1e-5), tf.zeros(tf.shape(input_f), dtype=dtype), input_f)\n",
    "    return tf.cast(tf.angle(input_f), dtype=inputs_dtype)\n",
    "#_______________________________________________________________________________________________________\n",
    "\n",
    "\n",
    "#________________________________________content of my local model_structure.py ________________________\n",
    "class ModelDense(Model):\n",
    "    def __init__(self, scope, nb_classes, reg, **kwargs):\n",
    "        del kwargs\n",
    "        Model.__init__(self, scope, nb_classes, locals())\n",
    "        self.reg = reg\n",
    "\n",
    "    def fprop(self, x, **kwargs):\n",
    "        del kwargs\n",
    "        my_conv = functools.partial(tf.layers.dense, activation=tf.nn.relu,\n",
    "                                    kernel_regularizer=tf.contrib.layers.l2_regularizer(self.reg),\n",
    "                                    kernel_initializer=HeReLuNormalInitializer,\n",
    "                                    )\n",
    "        with tf.variable_scope(self.scope, reuse=tf.AUTO_REUSE):\n",
    "            y = pixel2phase(x)\n",
    "            y = tf.layers.flatten(y)\n",
    "            y = my_conv(y, 800)\n",
    "            y = my_conv(y, 300)\n",
    "\n",
    "            logits = tf.layers.dense(y, self.nb_classes,\n",
    "                                     kernel_regularizer=tf.contrib.layers.l2_regularizer(self.reg),\n",
    "                                     kernel_initializer=HeReLuNormalInitializer)\n",
    "            return {self.O_LOGITS: logits,\n",
    "                    self.O_PROBS: tf.nn.softmax(logits=logits)}\n",
    "\n",
    "\n",
    "class HeReLuNormalInitializer(tf.initializers.random_normal):\n",
    "    def __init__(self, dtype=tf.float32):\n",
    "        self.dtype = tf.as_dtype(dtype)\n",
    "\n",
    "    def get_config(self):\n",
    "        return dict(dtype=self.dtype.name)\n",
    "\n",
    "    def __call__(self, shape, dtype=None, partition_info=None):\n",
    "        del partition_info\n",
    "        dtype = self.dtype if dtype is None else dtype\n",
    "        std = tf.rsqrt(tf.cast(tf.reduce_prod(shape[:-1]), tf.float32) + 1e-7)\n",
    "        return tf.random_normal(shape, stddev=std, dtype=dtype)"
   ]
  },
  {
   "cell_type": "code",
   "execution_count": 3,
   "metadata": {},
   "outputs": [],
   "source": [
    "# _________________________________________ content of utils.py ______________________________\n",
    "def _permute_index(l, seed):\n",
    "    \"\"\"\n",
    "    Creates a permutation of np.array([0, ..., l-1]) and its inverse\n",
    "    :param l: length of the array to permute\n",
    "    :param seed: permutation seed\n",
    "    :return: (s, s_inverse) where s is permutation of np.array([0, ..., l-1]) and s_inverse is its inverse\n",
    "    \"\"\"\n",
    "    st0 = np.random.get_state()\n",
    "    s = np.arange(l)\n",
    "    np.random.seed(seed)\n",
    "    np.random.shuffle(s)\n",
    "    s_inverse = np.argsort(s)\n",
    "    np.random.set_state(st0)\n",
    "    return s, s_inverse\n",
    "\n",
    "\n",
    "def permute(data, seed):\n",
    "    \"\"\"\n",
    "    Permutes images in the data with given seed for each channel.\n",
    "    :param data: numpy array with shape (nb_images, img_rows, img_cols, nb_channels)\n",
    "    :param seed: permutation seed. If seed=None returns data without permutation\n",
    "    :return: numpy array with shape (nb_images, img_rows, img_cols, nb_channels) of permuted images\n",
    "    \"\"\"\n",
    "    \"\"\"\n",
    "    Permutes images in the data with given seed. If seed=None, returns data without permutation.\n",
    "    Assumes data has shape (nb_images, img_rows, img_cols, nb_channels)\n",
    "    \"\"\"\n",
    "    nb_images, img_rows, img_cols, nb_channels = data.shape\n",
    "    if seed is None:\n",
    "        return data\n",
    "    l = img_rows * img_cols  # length of the permutation array\n",
    "    s, _ = _permute_index(l, seed)\n",
    "    output = np.zeros(data.shape)\n",
    "    for ch in range(nb_channels):\n",
    "        output[:, :, :, ch] = data[:, :, :, ch].reshape(-1, l)[:, s].reshape(-1, img_rows, img_cols)\n",
    "    return output\n",
    "\n",
    "\n",
    "def ipermute(data, seed):\n",
    "    \"\"\"\n",
    "    inverse of permute\n",
    "    :param data: numpy array with shape (nb_images, img_rows, img_cols, nb_channels)\n",
    "    :param seed:  permutation seed. If seed=None returns data without permutation\n",
    "    :return: numpy array with shape (nb_images, img_rows, img_cols, nb_channels) of inverse permuted images\n",
    "    \"\"\"\n",
    "    nb_images, img_rows, img_cols, nb_channels = data.shape\n",
    "    if seed is None:\n",
    "        return data\n",
    "    l = img_rows * img_cols  # length of the permutation array\n",
    "    _, s_inverse = _permute_index(l, seed)\n",
    "    output = np.zeros(data.shape)\n",
    "    for ch in range(nb_channels):\n",
    "        output[:, :, :, ch] = data[:, :, :, ch].reshape(-1, l)[:, s_inverse].reshape(-1, img_rows, img_cols)\n",
    "    return output"
   ]
  },
  {
   "cell_type": "code",
   "execution_count": 4,
   "metadata": {},
   "outputs": [],
   "source": [
    "def log_attack(attack_name, adv_x, perturbation_strength, attack_params):\n",
    "    \"\"\"\n",
    "    saves adv_x with name perturbaton_strength in subfolder with attack_name\n",
    "    \"\"\"\n",
    "    directory = os.path.join('Attack Logs', attack_name)\n",
    "    if not os.path.exists(directory):\n",
    "        os.makedirs(directory)\n",
    "\n",
    "    import json\n",
    "    with open(os.path.join(directory, 'params' + str(perturbation_strength) + '.txt'), 'w') as file:\n",
    "        file.write(json.dumps(attack_params)) # use `json.loads` to do the reverse\n",
    "    np.save(os.path.join(directory, str(perturbation_strength)), adv_x)\n",
    "\n",
    "\n",
    "def _read_attack(attack_name, perturbation_strength):\n",
    "    \"\"\"\n",
    "    loads adv_x with name perturbaton_strength in subfolder with attack_name\n",
    "    :param attack_name: string of attack name used for folder to save\n",
    "    :param perturbation_strength: a float or string of attack file\n",
    "    \"\"\"\n",
    "    filename = os.path.join('Attack Logs', attack_name, str(perturbation_strength) + '.npy')\n",
    "    return np.load(filename)\n",
    "\n",
    "def read_attack(attack_name):\n",
    "    directory = os.path.join('Attack Logs', attack_name)\n",
    "    out = dict()\n",
    "    for filename in os.listdir(directory):\n",
    "        if filename.endswith('.npy'):\n",
    "            path_to_file = os.path.join(directory, filename)\n",
    "            out[np.float(os.path.splitext(filename)[0])] = np.load(path_to_file)\n",
    "    return out"
   ]
  },
  {
   "cell_type": "code",
   "execution_count": 5,
   "metadata": {},
   "outputs": [],
   "source": [
    "def measure_perturbation(x, adv_x, order):\n",
    "    \"\"\"\n",
    "    average perturbation between x and adv_x. Note that each image is converted to\n",
    "    a vector of size (img_rows*img_cols*nb_channels) and then norm is calculated.\n",
    "    :param x: numpy array with shape (nb_images, img_rows, img_cols, nb_channels)\n",
    "    :param adv_x: numpy array with same shape as x\n",
    "    :param order: order of the norm (mimics numpy) possible values are np.inf, 1 or 2\n",
    "    :return: a scalar denoting perturbation between x and adv_x averaged over images.\n",
    "    \"\"\"\n",
    "    nb_images, _, _, _ = x.shape\n",
    "    dev = (x-adv_x).reshape(nb_images, -1)\n",
    "    dev_norms = np.linalg.norm(dev, order, axis=1)\n",
    "    return np.mean(dev_norms)\n",
    "\n",
    "def random_perturb(x, perturbation_strength, order):\n",
    "    \"\"\"\n",
    "    randomly perturbes pixels of x with perturbation_strength such that \n",
    "    measure_perturbation(x, random_perturb(x, perturbation_strength, order), order) = perturbation_strength.\n",
    "    For order=np.inf each pixel is perturbed with either -perturbation_strenth or perturbation_strength.\n",
    "    For order = 1 and order = 2, images of the pixel are perturbed with a uniform random noise with mean zero.\n",
    "    :param x: numpy array with shape (nb_images, img_rows, img_cols, nb_channels)\n",
    "    :param perturbation_strength: a scalar that is strength of noise.\n",
    "    :param order: order of the norm (mimics numpy) possible values are np.inf, 1 or 2\n",
    "    :return: numpy array with same shape as x which denotes random perturbation of pixels of x with perturbation_strength\n",
    "    \"\"\"\n",
    "    nb_images, img_rows, img_cols, nb_channels = x.shape\n",
    "    if order == np.inf:\n",
    "        dev = (np.random.randint(0, 2, size=nb_images*img_rows*img_cols*nb_channels) * 2 * perturbation_strength - perturbation_strength)\n",
    "    elif order == 1:\n",
    "        tmp = np.random.rand(nb_images, img_rows*img_cols*nb_channels) - 0.5\n",
    "        coef = perturbation_strength / np.sum(np.abs(tmp), axis=1)\n",
    "        dev = tmp * np.expand_dims(coef, axis=1)\n",
    "    elif order == 2:\n",
    "        tmp = np.random.rand(nb_images, img_rows*img_cols*nb_channels) - 0.5\n",
    "        coef = perturbation_strength / np.linalg.norm(tmp, 2, axis=1)\n",
    "        dev = tmp * np.expand_dims(coef, axis=1)\n",
    "    else:\n",
    "        raise(ValueError('order should be np.inf, 1 or 2'))\n",
    "    return x + dev.reshape(x.shape) "
   ]
  },
  {
   "cell_type": "code",
   "execution_count": 6,
   "metadata": {},
   "outputs": [],
   "source": [
    "def log_plot_data(attack_name, header, arr):\n",
    "    \"\"\"\n",
    "    concatenates numpy arrays in arr and saves them as 'plot_data.csv'.\n",
    "    :param attack_name: string of attack name (the folder in which data is to be logged)\n",
    "    :param header: list of strings denoting header name for element of arr\n",
    "    :param arr: list of numpy arrays to be logged. For example: [strength, adv_acc, ...]\n",
    "    \"\"\"\n",
    "    import pandas as pd\n",
    "    directory = os.path.join('Attack Logs', attack_name)\n",
    "    tmp = np.concatenate(tuple([np.array(a).reshape(-1, 1) for a in arr]), axis=1)\n",
    "    df = pd.DataFrame(tmp, columns=header)\n",
    "    df.to_csv(os.path.join(directory, 'plot_data'), index=False)\n",
    "    \n",
    "def load_plot_data(attack_name):\n",
    "    \"\"\"\n",
    "    reads data saved with log_plot_data\n",
    "    :param attack_name: string of attack name (the folder to read from)\n",
    "    :return: a pandas dataFrame containing plot data.\n",
    "    \"\"\"\n",
    "    import pandas as pd\n",
    "    path = os.path.join('Attack Logs', attack_name, 'plot_data')\n",
    "    df = pd.read_csv(path)\n",
    "    return df"
   ]
  },
  {
   "cell_type": "code",
   "execution_count": 7,
   "metadata": {},
   "outputs": [],
   "source": [
    "from cleverhans.utils_tf import tf_model_load\n",
    "class Ensemble(object):\n",
    "    \n",
    "    def __init__(self, seeds, directory, model_class, **kwargs):\n",
    "        \n",
    "        self.img_rows = kwargs.get('img_rows', 28)\n",
    "        self.img_cols = kwargs.get('img_cols', 28)\n",
    "        self.nb_channels = kwargs.get('nb_channels', 1)\n",
    "        self.nb_classes = kwargs.get('nb_classes', 10)\n",
    "        self.reg = kwargs.get('reg', 5e-3)\n",
    "        self.scope = kwargs.get('scope', 'model1')\n",
    "        \n",
    "        self.seeds = seeds\n",
    "        self.directory = directory\n",
    "        self.model_class = model_class\n",
    "        self.sessions_dict, self.models_dict, self.placeholders_dict = self.load_models()\n",
    "                \n",
    "    def load_models(self):\n",
    "        sessions_dict = dict()\n",
    "        models_dict = dict()\n",
    "        placeholders_dict = dict()\n",
    "        for seed in self.seeds:\n",
    "            sess = tf.Session(graph=tf.Graph())\n",
    "            with sess.graph.as_default():\n",
    "                # ____________________ defining the model graph ________________________\n",
    "                x = tf.placeholder(tf.float32, shape=(None, self.img_rows, self.img_cols, self.nb_channels))\n",
    "                model = self.model_class(scope=self.scope, nb_classes=self.nb_classes, reg=self.reg)\n",
    "                preds = model.get_logits(x)\n",
    "                # ______________________________________________________________________\n",
    "                \n",
    "                model_path = os.path.join(self.directory, str(seed), 'cifar10')\n",
    "                if os.path.exists(model_path  + \".meta\"):\n",
    "                    tf_model_load(sess, model_path)\n",
    "                sessions_dict[seed] = sess\n",
    "                models_dict[seed] = model\n",
    "                placeholders_dict[seed] = x\n",
    "        return sessions_dict, models_dict, placeholders_dict\n",
    "    \n",
    "    def predict(self, unpermuted_pixel_data, seeds=None):\n",
    "        if seeds is None:\n",
    "            seeds = self.seeds\n",
    "        total_pred = 0\n",
    "        for seed in seeds:\n",
    "            sess = self.sessions_dict[seed]\n",
    "            with sess.graph.as_default():\n",
    "                model = self.models_dict[seed]\n",
    "                x = self.placeholders_dict[seed]\n",
    "                preds = model.get_probs(x)\n",
    "                total_pred += sess.run(preds, feed_dict={x: permute(unpermuted_pixel_data, seed=seed)})\n",
    "        return total_pred/len(seeds)\n",
    "                \n",
    "    def get_model(self, seed):\n",
    "        return self.models_dict[seed], self.sessions_dict[seed], self.placeholders_dict[seed]\n",
    "    \n",
    "    def accuracy_plot(self, unpermuted_pixel_data, true_labels, seeds=None):\n",
    "        if seeds is None:\n",
    "            seeds = self.seeds\n",
    "        out = []\n",
    "        total_pred = 0\n",
    "        for seed in seeds:\n",
    "            sess = self.sessions_dict[seed]\n",
    "            with sess.graph.as_default():\n",
    "                model = self.models_dict[seed]\n",
    "                x = self.placeholders_dict[seed]\n",
    "                preds = model.get_probs(x)\n",
    "                total_pred += sess.run(preds, feed_dict={x: permute(unpermuted_pixel_data, seed=seed)})\n",
    "                p = total_pred/(len(out) + 1)\n",
    "                out.append(np.mean(np.equal(np.argmax(p, axis=1), np.argmax(true_labels, axis=1))))\n",
    "        return out\n",
    "        \n",
    "    \n",
    "    def accuracy(self, unpermuted_pixel_data, true_labels, seeds=None):\n",
    "        return np.mean(np.equal(np.argmax(self.predict(unpermuted_pixel_data, seeds=seeds), axis=1), np.argmax(true_labels, axis=1)))\n",
    "        \n",
    "                \n",
    "    "
   ]
  },
  {
   "cell_type": "code",
   "execution_count": 8,
   "metadata": {},
   "outputs": [],
   "source": [
    "dataset_params = {\n",
    "    'img_rows': 32,\n",
    "    'img_cols': 32,\n",
    "    'nb_channels': 3,\n",
    "    'nb_classes': 10\n",
    "}\n",
    "\n",
    "model_params = {\n",
    "    'scope': 'model1',\n",
    "    'reg': 5e-2\n",
    "}\n",
    "\n",
    "eval_params = {\n",
    "    'batch_size': 128\n",
    "}\n",
    "\n",
    "ensemble_params = deepcopy(dataset_params)\n",
    "ensemble_params.update(model_params)"
   ]
  },
  {
   "cell_type": "code",
   "execution_count": 9,
   "metadata": {},
   "outputs": [
    {
     "name": "stdout",
     "output_type": "stream",
     "text": [
      "x_train shape = (50000, 32, 32, 3)\n",
      "y_train shape = (50000, 10)\n",
      "x_test shape = (10000, 32, 32, 3)\n"
     ]
    }
   ],
   "source": [
    "(x_train, y_train), (x_test, y_test) = tf.keras.datasets.cifar10.load_data()\n",
    "x_train = x_train.astype('float32')/255\n",
    "x_test = x_test.astype('float32')/255\n",
    "\n",
    "y_train = tf.keras.utils.to_categorical(y_train, dataset_params['nb_classes'])\n",
    "y_test = tf.keras.utils.to_categorical(y_test, dataset_params['nb_classes'])\n",
    "print(\"x_train shape =\", x_train.shape)\n",
    "print(\"y_train shape =\", y_train.shape)\n",
    "print (\"x_test shape =\", x_test.shape)"
   ]
  },
  {
   "cell_type": "code",
   "execution_count": 10,
   "metadata": {},
   "outputs": [
    {
     "name": "stdout",
     "output_type": "stream",
     "text": [
      "INFO:tensorflow:Restoring parameters from saved_models/cifar10dense/100/cifar10\n",
      "INFO:tensorflow:Restoring parameters from saved_models/cifar10dense/101/cifar10\n",
      "INFO:tensorflow:Restoring parameters from saved_models/cifar10dense/102/cifar10\n",
      "INFO:tensorflow:Restoring parameters from saved_models/cifar10dense/103/cifar10\n",
      "INFO:tensorflow:Restoring parameters from saved_models/cifar10dense/104/cifar10\n",
      "INFO:tensorflow:Restoring parameters from saved_models/cifar10dense/105/cifar10\n",
      "INFO:tensorflow:Restoring parameters from saved_models/cifar10dense/106/cifar10\n",
      "INFO:tensorflow:Restoring parameters from saved_models/cifar10dense/107/cifar10\n",
      "INFO:tensorflow:Restoring parameters from saved_models/cifar10dense/108/cifar10\n",
      "INFO:tensorflow:Restoring parameters from saved_models/cifar10dense/109/cifar10\n",
      "INFO:tensorflow:Restoring parameters from saved_models/cifar10dense/110/cifar10\n",
      "INFO:tensorflow:Restoring parameters from saved_models/cifar10dense/111/cifar10\n",
      "INFO:tensorflow:Restoring parameters from saved_models/cifar10dense/112/cifar10\n",
      "INFO:tensorflow:Restoring parameters from saved_models/cifar10dense/113/cifar10\n",
      "INFO:tensorflow:Restoring parameters from saved_models/cifar10dense/114/cifar10\n",
      "INFO:tensorflow:Restoring parameters from saved_models/cifar10dense/115/cifar10\n",
      "INFO:tensorflow:Restoring parameters from saved_models/cifar10dense/116/cifar10\n",
      "INFO:tensorflow:Restoring parameters from saved_models/cifar10dense/117/cifar10\n",
      "INFO:tensorflow:Restoring parameters from saved_models/cifar10dense/118/cifar10\n",
      "INFO:tensorflow:Restoring parameters from saved_models/cifar10dense/119/cifar10\n",
      "INFO:tensorflow:Restoring parameters from saved_models/cifar10dense/120/cifar10\n",
      "INFO:tensorflow:Restoring parameters from saved_models/cifar10dense/121/cifar10\n",
      "INFO:tensorflow:Restoring parameters from saved_models/cifar10dense/122/cifar10\n",
      "INFO:tensorflow:Restoring parameters from saved_models/cifar10dense/123/cifar10\n",
      "INFO:tensorflow:Restoring parameters from saved_models/cifar10dense/124/cifar10\n",
      "INFO:tensorflow:Restoring parameters from saved_models/cifar10dense/125/cifar10\n",
      "INFO:tensorflow:Restoring parameters from saved_models/cifar10dense/126/cifar10\n",
      "INFO:tensorflow:Restoring parameters from saved_models/cifar10dense/127/cifar10\n",
      "INFO:tensorflow:Restoring parameters from saved_models/cifar10dense/128/cifar10\n",
      "INFO:tensorflow:Restoring parameters from saved_models/cifar10dense/129/cifar10\n",
      "INFO:tensorflow:Restoring parameters from saved_models/cifar10dense/130/cifar10\n",
      "INFO:tensorflow:Restoring parameters from saved_models/cifar10dense/131/cifar10\n",
      "INFO:tensorflow:Restoring parameters from saved_models/cifar10dense/132/cifar10\n",
      "INFO:tensorflow:Restoring parameters from saved_models/cifar10dense/133/cifar10\n",
      "INFO:tensorflow:Restoring parameters from saved_models/cifar10dense/134/cifar10\n",
      "INFO:tensorflow:Restoring parameters from saved_models/cifar10dense/135/cifar10\n",
      "INFO:tensorflow:Restoring parameters from saved_models/cifar10dense/136/cifar10\n",
      "INFO:tensorflow:Restoring parameters from saved_models/cifar10dense/137/cifar10\n",
      "INFO:tensorflow:Restoring parameters from saved_models/cifar10dense/138/cifar10\n",
      "INFO:tensorflow:Restoring parameters from saved_models/cifar10dense/139/cifar10\n",
      "INFO:tensorflow:Restoring parameters from saved_models/cifar10dense/140/cifar10\n",
      "INFO:tensorflow:Restoring parameters from saved_models/cifar10dense/141/cifar10\n",
      "INFO:tensorflow:Restoring parameters from saved_models/cifar10dense/142/cifar10\n",
      "INFO:tensorflow:Restoring parameters from saved_models/cifar10dense/143/cifar10\n",
      "INFO:tensorflow:Restoring parameters from saved_models/cifar10dense/144/cifar10\n",
      "INFO:tensorflow:Restoring parameters from saved_models/cifar10dense/145/cifar10\n",
      "INFO:tensorflow:Restoring parameters from saved_models/cifar10dense/146/cifar10\n",
      "INFO:tensorflow:Restoring parameters from saved_models/cifar10dense/147/cifar10\n",
      "INFO:tensorflow:Restoring parameters from saved_models/cifar10dense/148/cifar10\n",
      "INFO:tensorflow:Restoring parameters from saved_models/cifar10dense/149/cifar10\n",
      "INFO:tensorflow:Restoring parameters from saved_models/cifar10dense/150/cifar10\n"
     ]
    }
   ],
   "source": [
    "seeds = range(100, 151) # before loading models they should be trained and saved using main_cifar10.py\n",
    "directory = os.path.join('saved_models', 'cifar10dense')\n",
    "ensemble = Ensemble(seeds=seeds, directory=directory, model_class=ModelDense, **ensemble_params)"
   ]
  },
  {
   "cell_type": "code",
   "execution_count": 9,
   "metadata": {},
   "outputs": [],
   "source": [
    "out = ensemble.accuracy_plot(x_test, y_test)\n",
    "# acc = ensemble.accuracy(x_test, y_test, seeds=range(100, 150)) # if seeds=None, accuracy on all the ensembled models is provided. if a list\n",
    "# of models is provided as seeds (for example seeds=[100, 101, 102]) ensemble of accuracy on models in seeds is provided."
   ]
  },
  {
   "cell_type": "code",
   "execution_count": 11,
   "metadata": {},
   "outputs": [
    {
     "data": {
      "image/png": "[encoded data removed]",
      "text/plain": [
       "<matplotlib.figure.Figure at 0x1c556e2290>"
      ]
     },
     "metadata": {},
     "output_type": "display_data"
    }
   ],
   "source": [
    "plt.plot(out)\n",
    "plt.grid()"
   ]
  },
  {
   "cell_type": "markdown",
   "metadata": {},
   "source": [
    "FGSM\n",
    "==="
   ]
  },
  {
   "cell_type": "code",
   "execution_count": 11,
   "metadata": {},
   "outputs": [
    {
     "name": "stdout",
     "output_type": "stream",
     "text": [
      "Attacking model 100 ...\n",
      "Accuracy on model 100: 0.4321\n"
     ]
    }
   ],
   "source": [
    "# performing FGSM attack\n",
    "from cleverhans.attacks import FastGradientMethod\n",
    "from cleverhans.utils_tf import model_eval\n",
    "\n",
    "seed = 100 # model for which attack is performed\n",
    "model, sess, x = ensemble.get_model(seed)\n",
    "\n",
    "nb_attacked_images = 10000\n",
    "fgsm_params = {\n",
    "        'eps': 6.444,\n",
    "        'ord': 2\n",
    "        }\n",
    "print('Attacking model {0} ...'.format(seed))\n",
    "fgsm = FastGradientMethod(model, sess=sess)\n",
    "with sess.graph.as_default():\n",
    "    y = tf.placeholder(tf.float32, shape=(None, dataset_params['nb_classes']))\n",
    "    adv_x_fgsm = ipermute(fgsm.generate_np(permute(x_test[0:nb_attacked_images], seed), **fgsm_params), seed)\n",
    "    preds = model.get_logits(x)\n",
    "adv_acc = model_eval(sess, x, y, preds, permute(adv_x_fgsm, seed=seed), y_test[0:nb_attacked_images], args=eval_params)\n",
    "print('Accuracy on model {0}:'.format(seed), adv_acc)"
   ]
  },
  {
   "cell_type": "code",
   "execution_count": 12,
   "metadata": {},
   "outputs": [
    {
     "name": "stdout",
     "output_type": "stream",
     "text": [
      "Average l_2 norm perturbation of adversarial examples: 6.4439998702978665\n"
     ]
    }
   ],
   "source": [
    "order = 2\n",
    "perturbation_strength = measure_perturbation(x_test[0:nb_attacked_images], adv_x_fgsm, order=order)\n",
    "print('Average l_{0} norm perturbation of adversarial examples:'.format(order), perturbation_strength)"
   ]
  },
  {
   "cell_type": "code",
   "execution_count": 13,
   "metadata": {},
   "outputs": [],
   "source": [
    "log_attack(attack_name='fgml2', adv_x=adv_x_fgsm, perturbation_strength=perturbation_strength, attack_params=fgsm_params)"
   ]
  },
  {
   "cell_type": "markdown",
   "metadata": {},
   "source": [
    "CW Attack\n",
    "==="
   ]
  },
  {
   "cell_type": "code",
   "execution_count": 33,
   "metadata": {},
   "outputs": [
    {
     "name": "stdout",
     "output_type": "stream",
     "text": [
      "Accuracy on model 100: 0.26\n"
     ]
    }
   ],
   "source": [
    "# performing CW attack\n",
    "from cleverhans.attacks import CarliniWagnerL2\n",
    "from cleverhans.utils_tf import model_eval\n",
    "\n",
    "seed = 100 # model for which attack is performed\n",
    "model, sess, x = ensemble.get_model(seed)\n",
    "\n",
    "nb_attacked_images = 100\n",
    "cw_params = {'binary_search_steps': 1,\n",
    "             'max_iterations': 50,\n",
    "             'learning_rate': 0.1, # it was .005\n",
    "             'initial_const': 10, # it was 0.01\n",
    "             'batch_size' : 1,\n",
    "             'confidence': 0,\n",
    "             'abort_early': False}\n",
    "\n",
    "cw = CarliniWagnerL2(model, sess=sess)\n",
    "with sess.graph.as_default():\n",
    "    y = tf.placeholder(tf.float32, shape=(None, dataset_params['nb_classes']))    \n",
    "    adv_x_cw = ipermute(cw.generate_np(permute(x_test[0:nb_attacked_images], seed=seed), **cw_params), seed=seed)\n",
    "    preds = model.get_logits(x)\n",
    "adv_acc = model_eval(sess, x, y, preds, permute(adv_x_cw[0:nb_attacked_images], seed=seed), y_test[0:nb_attacked_images], args=eval_params)\n",
    "print('Accuracy on model {0}:'.format(seed), adv_acc)"
   ]
  },
  {
   "cell_type": "code",
   "execution_count": 34,
   "metadata": {},
   "outputs": [
    {
     "name": "stdout",
     "output_type": "stream",
     "text": [
      "Average l_2 norm perturbation of adversarial examples: 3.2418097706249784\n"
     ]
    }
   ],
   "source": [
    "order = 2\n",
    "perturbation_strength = measure_perturbation(x_test[0:nb_attacked_images], adv_x_cw, order=order)\n",
    "print('Average l_{0} norm perturbation of adversarial examples:'.format(order), perturbation_strength)"
   ]
  },
  {
   "cell_type": "code",
   "execution_count": 19,
   "metadata": {},
   "outputs": [],
   "source": [
    "log_attack(attack_name='cwl2', adv_x=adv_x_cw, perturbation_strength=perturbation_strength, attack_params=cw_params)"
   ]
  },
  {
   "cell_type": "markdown",
   "metadata": {},
   "source": [
    "PGD\n",
    "==="
   ]
  },
  {
   "cell_type": "code",
   "execution_count": 14,
   "metadata": {},
   "outputs": [
    {
     "name": "stdout",
     "output_type": "stream",
     "text": [
      "Accuracy on model 100: 0.3318\n"
     ]
    }
   ],
   "source": [
    "from cleverhans.attacks import MadryEtAl\n",
    "from cleverhans.utils_tf import model_eval\n",
    "\n",
    "seed = 100 # model for which attack is performed\n",
    "model, sess, x = ensemble.get_model(seed)\n",
    "\n",
    "nb_attacked_images = 10000\n",
    "pgd_params = {'eps': 6.444, # madry 0.03\n",
    "              'eps_iter': 0.01, # madry 0.01\n",
    "              'nb_iter': 100, # madry 20\n",
    "              'ord': 2\n",
    "             }\n",
    "\n",
    "pgd = MadryEtAl(model, sess=sess)\n",
    "with sess.graph.as_default():\n",
    "    y = tf.placeholder(tf.float32, shape=(None, dataset_params['nb_classes']))\n",
    "    adv_x_pgd = ipermute(pgd.generate_np(permute(x_test[0:nb_attacked_images], seed=seed), **pgd_params), seed=seed)\n",
    "    preds = model.get_logits(x)\n",
    "adv_acc = model_eval(sess, x, y, preds, permute(adv_x_pgd, seed=seed), y_test[0:nb_attacked_images], args=eval_params)\n",
    "print('Accuracy on model {0}:'.format(seed), adv_acc)"
   ]
  },
  {
   "cell_type": "code",
   "execution_count": 15,
   "metadata": {},
   "outputs": [
    {
     "name": "stdout",
     "output_type": "stream",
     "text": [
      "Average l_2 norm perturbation of adversarial examples: 6.443999849798041\n"
     ]
    }
   ],
   "source": [
    "order = pgd_params['ord']\n",
    "perturbation_strength = measure_perturbation(x_test[0:nb_attacked_images], adv_x_pgd, order=order)\n",
    "print('Average l_{0} norm perturbation of adversarial examples:'.format(order), perturbation_strength)"
   ]
  },
  {
   "cell_type": "code",
   "execution_count": 16,
   "metadata": {},
   "outputs": [],
   "source": [
    "log_attack(attack_name='pgdl2', adv_x=adv_x_pgd, perturbation_strength=perturbation_strength, attack_params=pgd_params)"
   ]
  },
  {
   "cell_type": "markdown",
   "metadata": {},
   "source": [
    "MIM\n",
    "==="
   ]
  },
  {
   "cell_type": "code",
   "execution_count": 11,
   "metadata": {},
   "outputs": [
    {
     "name": "stdout",
     "output_type": "stream",
     "text": [
      "Accuracy on model 100: 0.1305\n"
     ]
    }
   ],
   "source": [
    "from cleverhans.attacks import MomentumIterativeMethod\n",
    "from cleverhans.utils_tf import model_eval\n",
    "\n",
    "seed = 100 # model for which attack is performed\n",
    "model, sess, x = ensemble.get_model(seed)\n",
    "\n",
    "nb_attacked_images = 10000\n",
    "mim = MomentumIterativeMethod(model, sess=sess)\n",
    "mim_params = {'eps_iter': 0.01,\n",
    "              'nb_iter': 100,\n",
    "              'decay_factor': 1,\n",
    "              'eps': .3}\n",
    "\n",
    "with sess.graph.as_default():\n",
    "    y = tf.placeholder(tf.float32, shape=(None, dataset_params['nb_classes']))\n",
    "    adv_x_mim = ipermute(mim.generate_np(permute(x_test[0:nb_attacked_images], seed=seed), **mim_params), seed=seed)\n",
    "    preds = model.get_logits(x)\n",
    "adv_acc = model_eval(sess, x, y, preds, permute(adv_x_mim, seed=seed), y_test[0:nb_attacked_images], args=eval_params)\n",
    "print('Accuracy on model {0}:'.format(seed), adv_acc)"
   ]
  },
  {
   "cell_type": "code",
   "execution_count": 12,
   "metadata": {},
   "outputs": [
    {
     "name": "stdout",
     "output_type": "stream",
     "text": [
      "Average l_inf norm perturbation of adversarial examples: 0.3000000680029392\n"
     ]
    }
   ],
   "source": [
    "order = np.inf\n",
    "perturbation_strength = measure_perturbation(x_test[0:nb_attacked_images], adv_x_mim, order=order)\n",
    "print('Average l_{0} norm perturbation of adversarial examples:'.format(order), perturbation_strength)"
   ]
  },
  {
   "cell_type": "code",
   "execution_count": 13,
   "metadata": {},
   "outputs": [],
   "source": [
    "log_attack(attack_name='mim', adv_x=adv_x_mim, perturbation_strength=perturbation_strength, attack_params=mim_params)"
   ]
  },
  {
   "cell_type": "markdown",
   "metadata": {},
   "source": [
    "BIM\n",
    "==="
   ]
  },
  {
   "cell_type": "code",
   "execution_count": 14,
   "metadata": {},
   "outputs": [
    {
     "name": "stdout",
     "output_type": "stream",
     "text": [
      "Accuracy on model 100: 0.2306\n"
     ]
    }
   ],
   "source": [
    "from cleverhans.attacks import BasicIterativeMethod\n",
    "from cleverhans.utils_tf import model_eval\n",
    "\n",
    "seed = 100 # model for which attack is performed\n",
    "model, sess, x = ensemble.get_model(seed)\n",
    "\n",
    "nb_attacked_images = 10000\n",
    "bim = BasicIterativeMethod(model, sess=sess)\n",
    "bim_params = {'eps': 0.3,\n",
    "              'eps_iter': 0.01,\n",
    "              'ord': np.inf,\n",
    "              'nb_iter': 200}\n",
    "\n",
    "with sess.graph.as_default():\n",
    "    y = tf.placeholder(tf.float32, shape=(None, dataset_params['nb_classes']))\n",
    "    adv_x_bim = ipermute(bim.generate_np(permute(x_test[0:nb_attacked_images], seed=seed), **bim_params), seed=seed)\n",
    "    preds = model.get_logits(x)\n",
    "adv_acc = model_eval(sess, x, y, preds, permute(adv_x_bim, seed=seed), y_test[0:nb_attacked_images], args=eval_params)\n",
    "print('Accuracy on model {0}:'.format(seed), adv_acc)"
   ]
  },
  {
   "cell_type": "code",
   "execution_count": 36,
   "metadata": {},
   "outputs": [
    {
     "name": "stdout",
     "output_type": "stream",
     "text": [
      "Average l_2 norm perturbation of adversarial examples: 0.7774385849620659\n"
     ]
    }
   ],
   "source": [
    "order = bim_params['ord']\n",
    "perturbation_strength = measure_perturbation(x_test[0:nb_attacked_images], adv_x_bim, order=order)\n",
    "print('Average l_{0} norm perturbation of adversarial examples:'.format(order), perturbation_strength)"
   ]
  },
  {
   "cell_type": "code",
   "execution_count": null,
   "metadata": {},
   "outputs": [],
   "source": [
    "log_attack(attack_name='bim', adv_x=adv_x_bim, perturbation_strength=perturbation_strength, attack_params=bim_params)"
   ]
  },
  {
   "cell_type": "markdown",
   "metadata": {},
   "source": [
    "ENM\n",
    "==="
   ]
  },
  {
   "cell_type": "code",
   "execution_count": 17,
   "metadata": {},
   "outputs": [
    {
     "name": "stdout",
     "output_type": "stream",
     "text": [
      "Accuracy on model 100: 0.1478\n"
     ]
    }
   ],
   "source": [
    "from cleverhans.attacks import ElasticNetMethod\n",
    "from cleverhans.utils_tf import model_eval\n",
    "\n",
    "seed = 100 # model for which attack is performed\n",
    "model, sess, x = ensemble.get_model(seed)\n",
    "\n",
    "nb_attacked_images = 10000\n",
    "enm = ElasticNetMethod(model, sess=sess)\n",
    "enm_params = {'binary_search_steps': 1,\n",
    "              'max_iterations': 100,\n",
    "              'initial_const': 3000,\n",
    "              'beta': 0,\n",
    "              'batch_size': 1}\n",
    "\n",
    "with sess.graph.as_default():\n",
    "    y = tf.placeholder(tf.float32, shape=(None, dataset_params['nb_classes']))\n",
    "    adv_x_enm = ipermute(enm.generate_np(permute(x_test[0:nb_attacked_images], seed=seed), **enm_params), seed=seed)\n",
    "    preds = model.get_logits(x)\n",
    "adv_acc = model_eval(sess, x, y, preds, permute(adv_x_enm, seed=seed), y_test[0:nb_attacked_images], args=eval_params)\n",
    "print('Accuracy on model {0}:'.format(seed), adv_acc)"
   ]
  },
  {
   "cell_type": "code",
   "execution_count": 16,
   "metadata": {},
   "outputs": [
    {
     "name": "stdout",
     "output_type": "stream",
     "text": [
      "Average l_2 norm perturbation of adversarial examples: 6.5625303082218265\n"
     ]
    }
   ],
   "source": [
    "order = 2\n",
    "perturbation_strength = measure_perturbation(x_test[0:nb_attacked_images], adv_x_enm, order=order)\n",
    "print('Average l_{0} norm perturbation of adversarial examples:'.format(order), perturbation_strength)"
   ]
  },
  {
   "cell_type": "code",
   "execution_count": null,
   "metadata": {},
   "outputs": [],
   "source": [
    "log_attack(attack_name='enml2', adv_x=adv_x_enm, perturbation_strength=perturbation_strength, attack_params=enm_params)"
   ]
  },
  {
   "cell_type": "markdown",
   "metadata": {},
   "source": [
    "Saliency Map Method\n",
    "==="
   ]
  },
  {
   "cell_type": "code",
   "execution_count": null,
   "metadata": {},
   "outputs": [],
   "source": [
    "from cleverhans.attacks import SaliencyMapMethod\n",
    "from cleverhans.utils_tf import model_eval\n",
    "\n",
    "seed = 100 # model for which attack is performed\n",
    "model, sess, x = ensemble.get_model(seed)\n",
    "\n",
    "nb_attacked_images = 100\n",
    "smm = SaliencyMapMethod(model, sess=sess)\n",
    "smm_params = {\n",
    "    'theta': 1.,\n",
    "    'gamma': 1.\n",
    "}\n",
    "\n",
    "with sess.graph.as_default():\n",
    "    y = tf.placeholder(tf.float32, shape=(None, dataset_params['nb_classes']))\n",
    "    adv_x_smm = ipermute(smm.generate_np(permute(x_test[0:nb_attacked_images], seed=seed), **smm_params), seed=seed)\n",
    "    preds = model.get_logits(x)\n",
    "adv_acc = model_eval(sess, x, y, preds, permute(adv_x_smm, seed=seed), y_test[0:nb_attacked_images], args=eval_params)\n",
    "print('Accuracy on model {0}:'.format(seed), adv_acc)"
   ]
  },
  {
   "cell_type": "code",
   "execution_count": 12,
   "metadata": {},
   "outputs": [
    {
     "name": "stdout",
     "output_type": "stream",
     "text": [
      "Average l_2 norm perturbation of adversarial examples: 2.3036084587919423\n"
     ]
    }
   ],
   "source": [
    "order = 2\n",
    "perturbation_strength = measure_perturbation(x_test[0:nb_attacked_images], adv_x_smm, order=order)\n",
    "print('Average l_{0} norm perturbation of adversarial examples:'.format(order), perturbation_strength)"
   ]
  },
  {
   "cell_type": "code",
   "execution_count": 13,
   "metadata": {},
   "outputs": [],
   "source": [
    "log_attack(attack_name='saliencyl2', adv_x=adv_x_smm, perturbation_strength=perturbation_strength, attack_params=smm_params)"
   ]
  },
  {
   "cell_type": "markdown",
   "metadata": {},
   "source": [
    "DeepFool\n",
    "==="
   ]
  },
  {
   "cell_type": "code",
   "execution_count": null,
   "metadata": {},
   "outputs": [],
   "source": [
    "from cleverhans.attacks import DeepFool\n",
    "from cleverhans.utils_tf import model_eval\n",
    "\n",
    "seed = 100 # model for which attack is performed\n",
    "model, sess, x = ensemble.get_model(seed)\n",
    "\n",
    "nb_attacked_images = 10000\n",
    "deep_fool = DeepFool(model, sess=sess)\n",
    "deep_fool_params = {\n",
    "    'nb_candidate': dataset_params['nb_classes'],\n",
    "    'overshoot': 0.1,\n",
    "    'max_iter': 10\n",
    "}\n",
    "\n",
    "with sess.graph.as_default():\n",
    "    y = tf.placeholder(tf.float32, shape=(None, dataset_params['nb_classes']))\n",
    "    adv_x_deep_fool = ipermute(deep_fool.generate_np(permute(x_test[0:nb_attacked_images], seed=seed), **deep_fool_params), seed=seed)\n",
    "    preds = model.get_logits(x)\n",
    "adv_acc = model_eval(sess, x, y, preds, permute(adv_x_deep_fool, seed=seed), y_test[0:nb_attacked_images], args=eval_params)\n",
    "print('Accuracy on model {0}:'.format(seed), adv_acc)"
   ]
  },
  {
   "cell_type": "code",
   "execution_count": 12,
   "metadata": {},
   "outputs": [
    {
     "name": "stdout",
     "output_type": "stream",
     "text": [
      "Average l_2 norm perturbation of adversarial examples: 7.795894422395073\n"
     ]
    }
   ],
   "source": [
    "order = 2\n",
    "perturbation_strength = measure_perturbation(x_test[0:nb_attacked_images], adv_x_deep_fool, order=order)\n",
    "print('Average l_{0} norm perturbation of adversarial examples:'.format(order), perturbation_strength)"
   ]
  },
  {
   "cell_type": "code",
   "execution_count": null,
   "metadata": {},
   "outputs": [],
   "source": [
    "log_attack(attack_name='deepfooll2', adv_x=adv_x_deep_fool, perturbation_strength=perturbation_strength, attack_params=deep_fool_params)"
   ]
  },
  {
   "cell_type": "markdown",
   "metadata": {},
   "source": [
    "EOT with PGD\n",
    "==="
   ]
  },
  {
   "cell_type": "code",
   "execution_count": 13,
   "metadata": {},
   "outputs": [],
   "source": [
    "attacked_models = range(100, 130)\n",
    "TARGET = 0\n",
    "\n",
    "ensemble_logits = []\n",
    "x = tf.placeholder(tf.float32, shape=(1, dataset_params['img_rows'], dataset_params['img_cols'], dataset_params['nb_channels']))\n",
    "for seed in attacked_models:\n",
    "    model, _, _ = ensemble.get_model(seed)\n",
    "    ensemble_logits.append(model.get_logits(x))\n",
    "ensemble_logits = tf.concat(ensemble_logits, axis=0)\n",
    "ensemble_labels = tf.tile(tf.expand_dims(tf.one_hot(TARGET, dataset_params['nb_classes']), axis=0), (ensemble_logits.shape[0], 1))\n",
    "ensemble_loss = tf.reduce_mean(tf.nn.softmax_cross_entropy_with_logits_v2(logits=ensemble_logits, labels=ensemble_labels))\n",
    "ensemble_grad, = tf.gradients(ensemble_loss, x)   "
   ]
  },
  {
   "cell_type": "code",
   "execution_count": 29,
   "metadata": {},
   "outputs": [
    {
     "name": "stdout",
     "output_type": "stream",
     "text": [
      "(1, 28, 28, 1)\n",
      "[0. 0. 0. 0. 0. 0. 0. 1. 0. 0.]\n"
     ]
    }
   ],
   "source": [
    "# PGD\n",
    "\n",
    "LR = 0.1\n",
    "EPSILON = .4\n",
    "orig = x_test[0:1]\n",
    "lower = np.clip(orig-EPSILON, 0, 1)\n",
    "upper = np.clip(orig+EPSILON, 0, 1)\n",
    "\n",
    "adv = np.copy(orig)\n",
    "print(adv.shape)\n",
    "print(y_test[0])\n",
    "for i in range(500):\n",
    "    with tf.Session() as sess:\n",
    "        sess.run(tf.global_variables_initializer())\n",
    "        g= sess.run(ensemble_grad, {x: adv})\n",
    "#     if i % 10 == 0:\n",
    "#         print('step %d, preds=%s' % (i, p))\n",
    "#     # step\n",
    "    adv -= LR * g\n",
    "    # project\n",
    "    adv = np.clip(adv, lower, upper)"
   ]
  },
  {
   "cell_type": "code",
   "execution_count": 30,
   "metadata": {},
   "outputs": [
    {
     "name": "stdout",
     "output_type": "stream",
     "text": [
      "7\n"
     ]
    }
   ],
   "source": [
    "p = ensemble.predict(adv, seeds=attacked_models)\n",
    "print(np.argmax(p))"
   ]
  },
  {
   "cell_type": "markdown",
   "metadata": {},
   "source": [
    "Log Perturbation Plot Data\n",
    "==="
   ]
  },
  {
   "cell_type": "code",
   "execution_count": 31,
   "metadata": {},
   "outputs": [],
   "source": [
    "attack_name = 'pgdl2'\n",
    "order = 2  # this should be consistent with attack parameters\n",
    "seed = 100  # model for which attack was performed\n",
    "seeds = range(101, 151)  # other models used for ensemble\n",
    "nb_attacked_images = 10000\n",
    "\n",
    "d = read_attack(attack_name = attack_name)"
   ]
  },
  {
   "cell_type": "code",
   "execution_count": 32,
   "metadata": {},
   "outputs": [
    {
     "name": "stdout",
     "output_type": "stream",
     "text": [
      "calculating stuff for perturbation =  0.322000002935\n",
      "calculating stuff for perturbation =  2.1210000805\n",
      "calculating stuff for perturbation =  4.17000016025\n",
      "calculating stuff for perturbation =  6.4439998498\n",
      "calculating stuff for perturbation =  10.4759998976\n"
     ]
    }
   ],
   "source": [
    "# generating random perturbation of x with same power as adversary\n",
    "strength = []\n",
    "adv_acc = []\n",
    "adv_acc_mean_other = []\n",
    "adv_acc_ensemble_other = []\n",
    "\n",
    "rand_acc_mean_other = []\n",
    "rand_acc_ensemble_other = []\n",
    "\n",
    "for perturbation_strength in sorted(d.keys()):\n",
    "    print('calculating stuff for perturbation = ', perturbation_strength)\n",
    "    strength.append(perturbation_strength)\n",
    "    adv_acc.append(ensemble.accuracy(d[perturbation_strength][0:nb_attacked_images], y_test[0:nb_attacked_images], seeds=[seed]))\n",
    "    adv_acc_mean_other.append(np.mean([ensemble.accuracy(d[perturbation_strength][0:nb_attacked_images], y_test[0:nb_attacked_images], seeds=[a]) for a in seeds]))\n",
    "    adv_acc_ensemble_other.append(ensemble.accuracy(d[perturbation_strength][0:nb_attacked_images], y_test[0:nb_attacked_images], seeds=seeds))\n",
    "    \n",
    "    x_random_perturbed = random_perturb(x_test[0:nb_attacked_images], perturbation_strength=perturbation_strength, order=order)\n",
    "    rand_acc_mean_other.append(np.mean([ensemble.accuracy(x_random_perturbed, y_test[0:nb_attacked_images], seeds=[a]) for a in seeds]))\n",
    "    rand_acc_ensemble_other.append(ensemble.accuracy(x_random_perturbed, y_test[0:nb_attacked_images], seeds=seeds))"
   ]
  },
  {
   "cell_type": "code",
   "execution_count": 33,
   "metadata": {},
   "outputs": [
    {
     "data": {
      "text/plain": [
       "<matplotlib.legend.Legend at 0x1cbd70df10>"
      ]
     },
     "execution_count": 33,
     "metadata": {},
     "output_type": "execute_result"
    },
    {
     "data": {
      "image/png": "[encoded data removed]",
      "text/plain": [
       "<matplotlib.figure.Figure at 0x1d0a22f690>"
      ]
     },
     "metadata": {},
     "output_type": "display_data"
    }
   ],
   "source": [
    "plt.plot(strength, adv_acc_mean_other, label='adv_acc_mean_other')\n",
    "plt.plot(strength, adv_acc_ensemble_other, label='adv_acc_ensemble_other')\n",
    "plt.plot(strength, rand_acc_mean_other, label='rand_acc_mean_other')\n",
    "plt.plot(strength, rand_acc_ensemble_other, label='rand_acc_ensemble_other')\n",
    "plt.plot(strength, adv_acc, label='adv_acc')\n",
    "plt.legend()"
   ]
  },
  {
   "cell_type": "code",
   "execution_count": 34,
   "metadata": {},
   "outputs": [],
   "source": [
    "header=['strength', 'adv_acc', 'adv_acc_mean_other', 'adv_acc_ensemble_other', 'rand_acc_mean_other', 'rand_acc_ensemble_other']\n",
    "arr = [strength, adv_acc, adv_acc_mean_other, adv_acc_ensemble_other, rand_acc_mean_other, rand_acc_ensemble_other]\n",
    "log_plot_data(attack_name=attack_name, header=header, arr=arr)"
   ]
  }
 ],
 "metadata": {
  "kernelspec": {
   "display_name": "Python 2",
   "language": "python",
   "name": "python2"
  },
  "language_info": {
   "codemirror_mode": {
    "name": "ipython",
    "version": 2
   },
   "file_extension": ".py",
   "mimetype": "text/x-python",
   "name": "python",
   "nbconvert_exporter": "python",
   "pygments_lexer": "ipython2",
   "version": "2.7.14"
  }
 },
 "nbformat": 4,
 "nbformat_minor": 2
}
